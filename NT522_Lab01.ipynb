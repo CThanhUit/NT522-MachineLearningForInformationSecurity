{
  "nbformat": 4,
  "nbformat_minor": 0,
  "metadata": {
    "colab": {
      "provenance": [],
      "authorship_tag": "ABX9TyPi4Nqx8Rsqh2/4jUBHPdqO",
      "include_colab_link": true
    },
    "kernelspec": {
      "name": "python3",
      "display_name": "Python 3"
    },
    "language_info": {
      "name": "python"
    }
  },
  "cells": [
    {
      "cell_type": "markdown",
      "metadata": {
        "id": "view-in-github",
        "colab_type": "text"
      },
      "source": [
        "<a href=\"https://colab.research.google.com/github/CThanhUit/NT522-MachineLearningForInformationSecurity/blob/main/NT522_Lab01.ipynb\" target=\"_parent\"><img src=\"https://colab.research.google.com/assets/colab-badge.svg\" alt=\"Open In Colab\"/></a>"
      ]
    },
    {
      "cell_type": "code",
      "source": [
        "#@title Link Dataset\n",
        "link_phishing_dataset='https://uithcm-my.sharepoint.com/personal/inseclab_hcmuit_edu_vn/_layouts/15/download.aspx?UniqueId=825f2f35%2D3497%2D4571%2Dbe07%2Dc946e20d2b6f'\n",
        "link_sms_spam_perceptron='https://uithcm-my.sharepoint.com/personal/inseclab_hcmuit_edu_vn/_layouts/15/download.aspx?UniqueId=3ac190af%2Db677%2D4e31%2D91e6%2Dd6cd457bfb73'\n",
        "link_sms_spam_svm='https://uithcm-my.sharepoint.com/personal/inseclab_hcmuit_edu_vn/_layouts/15/download.aspx?UniqueId=f425eae1%2Ddefc%2D4397%2Dafa9%2D8628084fffd8'"
      ],
      "metadata": {
        "id": "5VpPzog-hOSR"
      },
      "execution_count": null,
      "outputs": []
    },
    {
      "cell_type": "code",
      "source": [
        "!wget 'https://uithcm-my.sharepoint.com/personal/inseclab_hcmuit_edu_vn/_layouts/15/download.aspx?UniqueId=825f2f35%2D3497%2D4571%2Dbe07%2Dc946e20d2b6f' -o phishing_dataset.csv"
      ],
      "metadata": {
        "id": "d9aBt1lFhw-y"
      },
      "execution_count": null,
      "outputs": []
    },
    {
      "cell_type": "code",
      "execution_count": null,
      "metadata": {
        "colab": {
          "base_uri": "https://localhost:8080/"
        },
        "id": "7NOJCtytg-VM",
        "outputId": "18b0754e-b31e-46e6-eb5f-ad2939428169"
      },
      "outputs": [
        {
          "output_type": "stream",
          "name": "stdout",
          "text": [
            "Tong hai ma tran:  [[5 7]\n",
            " [4 9]\n",
            " [5 5]]\n",
            "Hieu hai ma tran:  [[ 3 -3]\n",
            " [-2  1]\n",
            " [ 1 -1]]\n"
          ]
        }
      ],
      "source": [
        "#@title 1. Sinh viên cho ví vụ về phép cộng, trừ hai ma trận numpy.\n",
        "import numpy as np\n",
        "a = np.array([[4, 2],\n",
        "              [1, 5],\n",
        "              [3, 2]])\n",
        "X = np.array([[1, 5],\n",
        "              [3, 4],\n",
        "              [2, 3]])\n",
        "try:\n",
        "  print('Tong hai ma tran: ', np.add(a, X))\n",
        "  print('Hieu hai ma tran: ', np.subtract(a, X))\n",
        "except:\n",
        "  print(\"Loi khong the tinh toan\")"
      ]
    },
    {
      "cell_type": "code",
      "source": [
        "#@title 2. Sinh viên sử dụng pandas xử lý các yêu cầu sau:\n",
        "# - Đọc CSV thành Dataframe và hiển thị\n",
        "# - Hãy chuyển index mặc định thành giá trị cột id\n",
        "# - Sắp xếp dữ liễu theo nhiều cột (sort)\n",
        "# - Chọn một cột cụ thể và hiển thị nó\n",
        "# - Chọn 2 hàng đầu tiền và hiển thị chúng\n",
        "# - Hãy chọ một hàng dựa trên một điều kiện giá trị của cột\n",
        "# - Thay đổi một vài giá trị thành NaN ở CSV, sau đó đọc lên thành Dataframe và\n",
        "# thay thế chúng bằng giá trị 0\n",
        "# - Ở cột Z chuyển giá trị lớn hơn 90 là True và nhỏ hơn là False trong Dataframe\n",
        "# - Chuyển Dataframe trên thành 2 Dataframe d1 và d2; d1 chứ cột X và Y, d2\n",
        "# chứa cột Z; cuối cùng d3 là thành quả của nối 2 Dataframe d1 và d2\n",
        "# - Dùng tính năng thống kê hãy hiển thị kết quả thông kể các giá trị thuộc tính\n",
        "# của Dataframe\n",
        "import pandas as pd\n"
      ],
      "metadata": {
        "id": "LeSbw3YonsUk"
      },
      "execution_count": null,
      "outputs": []
    }
  ]
}